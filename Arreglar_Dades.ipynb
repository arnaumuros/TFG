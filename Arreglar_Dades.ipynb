{
 "cells": [
  {
   "cell_type": "markdown",
   "metadata": {},
   "source": [
    "## PREPARACIO DELS DATASETS"
   ]
  },
  {
   "cell_type": "code",
   "execution_count": 1,
   "metadata": {},
   "outputs": [],
   "source": [
    "import pandas as pd\n",
    "import numpy as np\n",
    "import matplotlib.pyplot as plt\n",
    "import matplotlib\n",
    "from statistics import mean, median\n",
    "import os"
   ]
  },
  {
   "cell_type": "code",
   "execution_count": 2,
   "metadata": {},
   "outputs": [],
   "source": [
    "def x(alpha, delta, alpha_c, delta_c):\n",
    "    x = np.cos(np.radians(delta))*np.sin(np.radians(alpha-alpha_c))\n",
    "    return np.degrees(x)\n",
    "\n",
    "def y(alpha, delta, alpha_c, delta_c):\n",
    "    y = np.sin(np.radians(delta))*np.cos(np.radians(delta_c))-np.cos(np.radians(delta))*np.sin(np.radians(delta_c))*np.cos(np.radians(alpha-alpha_c))\n",
    "    return np.degrees(y)\n",
    "\n",
    "def mu_x(alpha, delta, mu_alpha, mu_delta, alpha_c, delta_c):\n",
    "    mu_x = mu_alpha*np.cos(np.radians(alpha-alpha_c)) - mu_delta*np.sin(np.radians(delta))*np.sin(np.radians(alpha-alpha_c))\n",
    "    return mu_x\n",
    "\n",
    "def mu_y(alpha, delta, mu_alpha, mu_delta, alpha_c, delta_c):\n",
    "    mu_y = mu_alpha*np.sin(np.radians(delta_c))*np.sin(np.radians(alpha-alpha_c)) + mu_delta*(np.cos(np.radians(delta))*np.cos(np.radians(delta_c))+np.sin(np.radians(delta))*np.sin(np.radians(delta_c))*np.cos(np.radians(alpha-alpha_c)))\n",
    "    return mu_y"
   ]
  },
  {
   "cell_type": "markdown",
   "metadata": {},
   "source": [
    "#### DADES GAIA"
   ]
  },
  {
   "cell_type": "code",
   "execution_count": 3,
   "metadata": {},
   "outputs": [],
   "source": [
    "new = 'E:\\DOWNLOADS\\TFG\\GAIA2'\n",
    "os.chdir(new)"
   ]
  },
  {
   "cell_type": "code",
   "execution_count": 4,
   "metadata": {},
   "outputs": [],
   "source": [
    "GAIA = pd.read_csv('LMC_eDR3_TFG_Arnau-result.csv')"
   ]
  },
  {
   "cell_type": "markdown",
   "metadata": {},
   "source": [
    "Afegim  x, y, mu_x, mu_y, i bp-rp"
   ]
  },
  {
   "cell_type": "code",
   "execution_count": 5,
   "metadata": {},
   "outputs": [],
   "source": [
    "alpha_c_LMC = 81.28 #degrees\n",
    "delta_c_LMC = -69.78 #degrees\n",
    "\n",
    "GAIA['x'] = x(GAIA['ra'],GAIA['dec'],alpha_c_LMC,delta_c_LMC)\n",
    "GAIA['y'] = y(GAIA['ra'],GAIA['dec'],alpha_c_LMC,delta_c_LMC)\n",
    "GAIA['mu_x'] = mu_x(GAIA['ra'],GAIA['dec'],GAIA['pmra'],GAIA['pmdec'],alpha_c_LMC,delta_c_LMC)\n",
    "GAIA['mu_y'] = mu_y(GAIA['ra'],GAIA['dec'],GAIA['pmra'],GAIA['pmdec'],alpha_c_LMC,delta_c_LMC)\n",
    "GAIA['BP_RP'] = GAIA['phot_bp_mean_mag'] - GAIA['phot_rp_mean_mag']"
   ]
  },
  {
   "cell_type": "code",
   "execution_count": 6,
   "metadata": {},
   "outputs": [
    {
     "name": "stdout",
     "output_type": "stream",
     "text": [
      "17388570\n"
     ]
    }
   ],
   "source": [
    "print(len(GAIA))"
   ]
  },
  {
   "cell_type": "markdown",
   "metadata": {},
   "source": [
    "Hi ha NaN en 'phot_bp_mean_mag' i 'phot_bp_mean_mag' en algunes estrelles"
   ]
  },
  {
   "cell_type": "code",
   "execution_count": 7,
   "metadata": {},
   "outputs": [],
   "source": [
    "GAIA = GAIA.dropna(subset=['BP_RP']) "
   ]
  },
  {
   "cell_type": "code",
   "execution_count": 8,
   "metadata": {},
   "outputs": [
    {
     "name": "stdout",
     "output_type": "stream",
     "text": [
      "15501760\n"
     ]
    }
   ],
   "source": [
    "print(len(GAIA))"
   ]
  },
  {
   "cell_type": "code",
   "execution_count": 9,
   "metadata": {},
   "outputs": [],
   "source": [
    "new = 'E:\\TFG\\Dades_Gaia'\n",
    "os.chdir(new)"
   ]
  },
  {
   "cell_type": "code",
   "execution_count": 10,
   "metadata": {},
   "outputs": [],
   "source": [
    "GAIA.to_csv('GAIA.csv')"
   ]
  },
  {
   "cell_type": "code",
   "execution_count": 11,
   "metadata": {},
   "outputs": [],
   "source": [
    "GAIA = None #Alliberem memoria"
   ]
  },
  {
   "cell_type": "markdown",
   "metadata": {},
   "source": [
    "#### DADES SIMULACIO GOG"
   ]
  },
  {
   "cell_type": "code",
   "execution_count": 12,
   "metadata": {},
   "outputs": [],
   "source": [
    "new = 'E:\\DOWNLOADS\\TFG\\Simulacio'\n",
    "os.chdir(new)"
   ]
  },
  {
   "cell_type": "code",
   "execution_count": 13,
   "metadata": {},
   "outputs": [],
   "source": [
    "MWs = pd.read_csv('MW_s.csv') #no hem canviat les dades de MW\n",
    "LMCs = pd.read_csv('LMC_s2.csv')"
   ]
  },
  {
   "cell_type": "code",
   "execution_count": 14,
   "metadata": {},
   "outputs": [],
   "source": [
    "alpha_c_LMC = 81.28 #degrees\n",
    "delta_c_LMC = -69.78 #degrees\n",
    "\n",
    "LMCs['ra'] = np.degrees(LMCs['Alpha'])\n",
    "LMCs['dec'] = np.degrees(LMCs['Delta'])\n",
    "\n",
    "MWs['ra'] = np.degrees(MWs['Alpha'])\n",
    "MWs['dec'] = np.degrees(MWs['Delta'])\n",
    "\n",
    "LMCs['x'] = x(LMCs['ra'],LMCs['dec'],alpha_c_LMC,delta_c_LMC)\n",
    "LMCs['y'] = y(LMCs['ra'],LMCs['dec'],alpha_c_LMC,delta_c_LMC)\n",
    "LMCs['mu_x'] = mu_x(LMCs['ra'],LMCs['dec'],LMCs['MuAlphaStar'],LMCs['MuDelta'],alpha_c_LMC,delta_c_LMC)\n",
    "LMCs['mu_y'] = mu_y(LMCs['ra'],LMCs['dec'],LMCs['MuAlphaStar'],LMCs['MuDelta'],alpha_c_LMC,delta_c_LMC)\n",
    "\n",
    "MWs['x'] = x(MWs['ra'],MWs['dec'],alpha_c_LMC,delta_c_LMC)\n",
    "MWs['y'] = y(MWs['ra'],MWs['dec'],alpha_c_LMC,delta_c_LMC)\n",
    "MWs['mu_x'] = mu_x(MWs['ra'],MWs['dec'],MWs['MuAlphaStar'],MWs['MuDelta'],alpha_c_LMC,delta_c_LMC)\n",
    "MWs['mu_y'] = mu_y(MWs['ra'],MWs['dec'],MWs['MuAlphaStar'],MWs['MuDelta'],alpha_c_LMC,delta_c_LMC)"
   ]
  },
  {
   "cell_type": "markdown",
   "metadata": {},
   "source": [
    "Distribució de Magnituds \\\n",
    "En la simulacio tenim les dades del flux així que utilitzem la formula:\\\n",
    "\\\n",
    "$G = G_0 - 2.5 log Flux$ \\\n",
    "\\\n",
    "Amb: \\\n",
    "${G}_0 = 25.620$ \\\n",
    "${BP}_0 = 25.264$ \\\n",
    "${RP}_0 = 24.510$ "
   ]
  },
  {
   "cell_type": "code",
   "execution_count": 15,
   "metadata": {},
   "outputs": [],
   "source": [
    "G0 = 25.620 \n",
    "BP0 = 25.264 \n",
    "𝑅𝑃0 = 24.510\n",
    "for i in (LMCs, MWs):\n",
    "    i['BP_RP'] = (BP0 - 2.5*np.log10(i.BpMean_FluxMean)) - (RP0 - 2.5*np.log10(i.RpMean_FluxMean))\n",
    "    i['phot_g_mean_mag'] = G0 - 2.5*np.log10(i.GMean_FluxMean)"
   ]
  },
  {
   "cell_type": "code",
   "execution_count": 16,
   "metadata": {},
   "outputs": [],
   "source": [
    "MWs['Type'] = 0\n",
    "LMCs['Type'] = 1\n",
    "LMC_Rs = pd.concat([LMCs, MWs], ignore_index=True)"
   ]
  },
  {
   "cell_type": "code",
   "execution_count": 17,
   "metadata": {},
   "outputs": [
    {
     "name": "stdout",
     "output_type": "stream",
     "text": [
      "1201329\n",
      "1201329\n"
     ]
    }
   ],
   "source": [
    "print(len(LMC_Rs))\n",
    "LMC_Rs.dropna()\n",
    "print(len(LMC_Rs))"
   ]
  },
  {
   "cell_type": "code",
   "execution_count": 18,
   "metadata": {},
   "outputs": [],
   "source": [
    "new = 'E:\\TFG\\Dades_Simulació'\n",
    "os.chdir(new)"
   ]
  },
  {
   "cell_type": "code",
   "execution_count": 19,
   "metadata": {},
   "outputs": [],
   "source": [
    "LMC_Rs.to_csv('GOG_Simulation.csv')"
   ]
  },
  {
   "cell_type": "code",
   "execution_count": 20,
   "metadata": {},
   "outputs": [],
   "source": [
    "MWs = None\n",
    "LMCs = None\n",
    "LMC_Rs = None"
   ]
  },
  {
   "cell_type": "markdown",
   "metadata": {},
   "source": [
    "#### DADES SH"
   ]
  },
  {
   "cell_type": "code",
   "execution_count": 3,
   "metadata": {},
   "outputs": [],
   "source": [
    "new = 'E:\\DOWNLOADS\\TFG\\SH'\n",
    "os.chdir(new)"
   ]
  },
  {
   "cell_type": "code",
   "execution_count": 4,
   "metadata": {},
   "outputs": [],
   "source": [
    "MWsh = pd.read_csv('SH_MW.csv')"
   ]
  },
  {
   "cell_type": "code",
   "execution_count": 5,
   "metadata": {},
   "outputs": [],
   "source": [
    "LMCsh = pd.read_csv('SH_LMC.csv')"
   ]
  },
  {
   "cell_type": "code",
   "execution_count": 6,
   "metadata": {},
   "outputs": [
    {
     "data": {
      "text/plain": [
       "Index(['Unnamed: 0', 'ra', 'dec', 'source_id', 'dist05', 'dist16', 'dist50',\n",
       "       'dist84', 'dist95', 'av05', 'av16', 'av50', 'av84', 'av95', 'teff16',\n",
       "       'teff50', 'teff84', 'logg16', 'logg50', 'logg84', 'met16', 'met50',\n",
       "       'met84', 'mass16', 'mass50', 'mass84', 'ag50', 'abp50', 'arp50',\n",
       "       'bprp0', 'mg0', 'xgal', 'ygal', 'zgal', 'rgal', 'fidelity',\n",
       "       'bp_rp_excess_corr', 'sh_photoflag', 'sh_outflag', 'x', 'y'],\n",
       "      dtype='object')"
      ]
     },
     "execution_count": 6,
     "metadata": {},
     "output_type": "execute_result"
    }
   ],
   "source": [
    "MWsh.columns"
   ]
  },
  {
   "cell_type": "code",
   "execution_count": 7,
   "metadata": {},
   "outputs": [
    {
     "data": {
      "text/plain": [
       "1582565"
      ]
     },
     "execution_count": 7,
     "metadata": {},
     "output_type": "execute_result"
    }
   ],
   "source": [
    "len(MWsh)"
   ]
  },
  {
   "cell_type": "code",
   "execution_count": 8,
   "metadata": {},
   "outputs": [
    {
     "data": {
      "text/plain": [
       "1041430"
      ]
     },
     "execution_count": 8,
     "metadata": {},
     "output_type": "execute_result"
    }
   ],
   "source": [
    "len(LMCsh)"
   ]
  },
  {
   "cell_type": "code",
   "execution_count": 9,
   "metadata": {},
   "outputs": [],
   "source": [
    "alpha_c_LMC = 81.28 #degrees\n",
    "delta_c_LMC = -69.78 #degrees\n",
    "\n",
    "for i in [LMCsh,MWsh]:\n",
    "    i['x'] = x(i['ra'],i['dec'],alpha_c_LMC,delta_c_LMC)\n",
    "    i['y'] = y(i['ra'],i['dec'],alpha_c_LMC,delta_c_LMC)\n",
    "    #i['mu_x'] = mu_x(i['ra'],i['dec'],i['pmra'],i['pmdec'],alpha_c_LMC,delta_c_LMC)\n",
    "    #i['mu_y'] = mu_y(i['ra'],i['dec'],i['pmra'],i['pmdec'],alpha_c_LMC,delta_c_LMC)\n",
    "\n",
    "LMCsh['BP_RP'] = LMCsh.bprp0\n",
    "MWsh['BP_RP'] = MWsh.bprp0\n",
    "LMCsh['phot_g_mean_mag'] = LMCsh.mg0\n",
    "MWsh['phot_g_mean_mag'] = MWsh.mg0\n",
    "\n",
    "LMCsh = LMCsh.dropna()\n",
    "MWsh = MWsh.dropna()"
   ]
  },
  {
   "cell_type": "code",
   "execution_count": 10,
   "metadata": {},
   "outputs": [],
   "source": [
    "new = 'E:\\TFG\\Dades_SH'\n",
    "os.chdir(new)"
   ]
  },
  {
   "cell_type": "code",
   "execution_count": 11,
   "metadata": {},
   "outputs": [],
   "source": [
    "MWsh.to_csv('SH_MW.csv')\n",
    "LMCsh.to_csv('SH_LMC.csv')"
   ]
  },
  {
   "cell_type": "markdown",
   "metadata": {},
   "source": [
    "#### DADES RR Lyrae"
   ]
  },
  {
   "cell_type": "code",
   "execution_count": null,
   "metadata": {},
   "outputs": [],
   "source": [
    "new = 'E:\\DOWNLOADS\\TFG\\CEFEIDES'\n",
    "os.chdir(new)"
   ]
  },
  {
   "cell_type": "code",
   "execution_count": null,
   "metadata": {},
   "outputs": [],
   "source": [
    "LMCcef = pd.read_csv('Cep_LMC.csv')"
   ]
  },
  {
   "cell_type": "code",
   "execution_count": null,
   "metadata": {},
   "outputs": [],
   "source": [
    "alpha_c_LMC = 81.28 #degrees\n",
    "delta_c_LMC = -69.78 #degrees\n",
    "\n",
    "LMCcef['x'] = x(LMCcef['ra'],LMCcef['dec'],alpha_c_LMC,delta_c_LMC)\n",
    "LMCcef['y'] = y(LMCcef['ra'],LMCcef['dec'],alpha_c_LMC,delta_c_LMC)\n",
    "#i['mu_x'] = mu_x(i['ra'],i['dec'],i['pmra'],i['pmdec'],alpha_c_LMC,delta_c_LMC)\n",
    "#i['mu_y'] = mu_y(i['ra'],i['dec'],i['pmra'],i['pmdec'],alpha_c_LMC,delta_c_LMC)\n",
    "LMCcef['BP_RP'] = LMCcef.bp_rp\n",
    "print(len(LMCcef))"
   ]
  },
  {
   "cell_type": "code",
   "execution_count": null,
   "metadata": {},
   "outputs": [],
   "source": [
    "new = 'E:\\TFG\\Dades_Cepheids'\n",
    "os.chdir(new)"
   ]
  },
  {
   "cell_type": "code",
   "execution_count": null,
   "metadata": {},
   "outputs": [],
   "source": [
    "LMCcef.to_csv('Cef_LMC.csv')"
   ]
  },
  {
   "cell_type": "markdown",
   "metadata": {},
   "source": [
    "#### DADES RR Lyrae"
   ]
  },
  {
   "cell_type": "code",
   "execution_count": null,
   "metadata": {},
   "outputs": [],
   "source": [
    "new = 'E:\\DOWNLOADS\\TFG\\RR'\n",
    "os.chdir(new)"
   ]
  },
  {
   "cell_type": "code",
   "execution_count": null,
   "metadata": {},
   "outputs": [],
   "source": [
    "LMC_RR = pd.read_csv('RR_LMC_EDR3.csv')"
   ]
  },
  {
   "cell_type": "code",
   "execution_count": null,
   "metadata": {},
   "outputs": [],
   "source": [
    "alpha_c_LMC = 81.28 #degrees\n",
    "delta_c_LMC = -69.78 #degrees\n",
    "\n",
    "LMC_RR['x'] = x(LMC_RR['ra'],LMC_RR['dec'],alpha_c_LMC,delta_c_LMC)\n",
    "LMC_RR['y'] = y(LMC_RR['ra'],LMC_RR['dec'],alpha_c_LMC,delta_c_LMC)\n",
    "#i['mu_x'] = mu_x(i['ra'],i['dec'],i['pmra'],i['pmdec'],alpha_c_LMC,delta_c_LMC)\n",
    "#i['mu_y'] = mu_y(i['ra'],i['dec'],i['pmra'],i['pmdec'],alpha_c_LMC,delta_c_LMC)\n",
    "LMC_RR['BP_RP'] = LMC_RR.bp_rp\n",
    "print(len(LMC_RR))"
   ]
  },
  {
   "cell_type": "code",
   "execution_count": null,
   "metadata": {},
   "outputs": [],
   "source": [
    "new = 'E:\\TFG\\Dades_RR'\n",
    "os.chdir(new)"
   ]
  },
  {
   "cell_type": "code",
   "execution_count": null,
   "metadata": {},
   "outputs": [],
   "source": [
    "LMC_RR.to_csv('RR_LMC.csv')"
   ]
  },
  {
   "cell_type": "code",
   "execution_count": null,
   "metadata": {},
   "outputs": [],
   "source": []
  }
 ],
 "metadata": {
  "kernelspec": {
   "display_name": "Python 3 (ipykernel)",
   "language": "python",
   "name": "python3"
  },
  "language_info": {
   "codemirror_mode": {
    "name": "ipython",
    "version": 3
   },
   "file_extension": ".py",
   "mimetype": "text/x-python",
   "name": "python",
   "nbconvert_exporter": "python",
   "pygments_lexer": "ipython3",
   "version": "3.7.6"
  }
 },
 "nbformat": 4,
 "nbformat_minor": 4
}
